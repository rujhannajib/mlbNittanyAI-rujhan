{
  "nbformat": 4,
  "nbformat_minor": 0,
  "metadata": {
    "colab": {
      "provenance": [],
      "authorship_tag": "ABX9TyMH/0NA/qHDgvuxhih3kl/q",
      "include_colab_link": true
    },
    "kernelspec": {
      "name": "python3",
      "display_name": "Python 3"
    },
    "language_info": {
      "name": "python"
    }
  },
  "cells": [
    {
      "cell_type": "markdown",
      "metadata": {
        "id": "view-in-github",
        "colab_type": "text"
      },
      "source": [
        "<a href=\"https://colab.research.google.com/github/rujhannajib/mlbNittanyAI-rujhan/blob/main/Document_answering.ipynb\" target=\"_parent\"><img src=\"https://colab.research.google.com/assets/colab-badge.svg\" alt=\"Open In Colab\"/></a>"
      ]
    },
    {
      "cell_type": "markdown",
      "source": [
        "# Document answering app\n",
        "\n",
        "- Objective: Develop a RAG that can answer questions based on documents uploaded.\n",
        "- Model: GPT-40\n",
        "- Example Document: Document about Malaysia\n",
        "- Task: RAG\n",
        "- Library: OpenAI, LangChain\n",
        "\n",
        "By:\n",
        "- Name: Muhammad Rujhan Najib Bin Fauzi Najib\n",
        "- PSU ID: 950118053\n"
      ],
      "metadata": {
        "id": "Nvj3sl-uzzT3"
      }
    },
    {
      "cell_type": "code",
      "execution_count": 1,
      "metadata": {
        "id": "PIa3borCYbHl",
        "collapsed": true,
        "colab": {
          "base_uri": "https://localhost:8080/"
        },
        "outputId": "3c4f3e23-42be-4ffa-e9d7-2a43f1bb039a"
      },
      "outputs": [
        {
          "output_type": "stream",
          "name": "stdout",
          "text": [
            "\u001b[?25l   \u001b[90m━━━━━━━━━━━━━━━━━━━━━━━━━━━━━━━━━━━━━━━━\u001b[0m \u001b[32m0.0/298.0 kB\u001b[0m \u001b[31m?\u001b[0m eta \u001b[36m-:--:--\u001b[0m\r\u001b[2K   \u001b[91m━━━━━━━━━━━━━━━━━━━━━━━━━━━━━━━━━━━━━━━\u001b[0m\u001b[91m╸\u001b[0m \u001b[32m297.0/298.0 kB\u001b[0m \u001b[31m11.7 MB/s\u001b[0m eta \u001b[36m0:00:01\u001b[0m\r\u001b[2K   \u001b[91m━━━━━━━━━━━━━━━━━━━━━━━━━━━━━━━━━━━━━━━\u001b[0m\u001b[91m╸\u001b[0m \u001b[32m297.0/298.0 kB\u001b[0m \u001b[31m11.7 MB/s\u001b[0m eta \u001b[36m0:00:01\u001b[0m\r\u001b[2K   \u001b[90m━━━━━━━━━━━━━━━━━━━━━━━━━━━━━━━━━━━━━━━━\u001b[0m \u001b[32m298.0/298.0 kB\u001b[0m \u001b[31m3.2 MB/s\u001b[0m eta \u001b[36m0:00:00\u001b[0m\n",
            "\u001b[2K   \u001b[90m━━━━━━━━━━━━━━━━━━━━━━━━━━━━━━━━━━━━━━━━\u001b[0m \u001b[32m2.4/2.4 MB\u001b[0m \u001b[31m25.2 MB/s\u001b[0m eta \u001b[36m0:00:00\u001b[0m\n",
            "\u001b[2K   \u001b[90m━━━━━━━━━━━━━━━━━━━━━━━━━━━━━━━━━━━━━━━━\u001b[0m \u001b[32m50.4/50.4 kB\u001b[0m \u001b[31m2.2 MB/s\u001b[0m eta \u001b[36m0:00:00\u001b[0m\n",
            "\u001b[2K   \u001b[90m━━━━━━━━━━━━━━━━━━━━━━━━━━━━━━━━━━━━━━━━\u001b[0m \u001b[32m3.1/3.1 MB\u001b[0m \u001b[31m50.6 MB/s\u001b[0m eta \u001b[36m0:00:00\u001b[0m\n",
            "\u001b[2K   \u001b[90m━━━━━━━━━━━━━━━━━━━━━━━━━━━━━━━━━━━━━━━━\u001b[0m \u001b[32m1.2/1.2 MB\u001b[0m \u001b[31m36.2 MB/s\u001b[0m eta \u001b[36m0:00:00\u001b[0m\n",
            "\u001b[2K   \u001b[90m━━━━━━━━━━━━━━━━━━━━━━━━━━━━━━━━━━━━━━━━\u001b[0m \u001b[32m49.5/49.5 kB\u001b[0m \u001b[31m2.3 MB/s\u001b[0m eta \u001b[36m0:00:00\u001b[0m\n",
            "\u001b[?25h"
          ]
        }
      ],
      "source": [
        "# installing important libraries\n",
        "!pip install -qU pypdf langchain_community langchain-openai langchain_openai\n"
      ]
    },
    {
      "cell_type": "code",
      "source": [
        "from langchain_community.document_loaders import PyPDFLoader\n",
        "\n",
        "# Put your pdf here\n",
        "file_path = \"/content/MCIA-MalaysiaHandbook.pdf\"\n",
        "\n",
        "# load pdf\n",
        "loader = PyPDFLoader(file_path)\n",
        "\n",
        "# extract text, metadata\n",
        "docs = loader.load()\n",
        "\n",
        "print(len(docs))"
      ],
      "metadata": {
        "colab": {
          "base_uri": "https://localhost:8080/"
        },
        "id": "lAargYdpYiQA",
        "outputId": "39188677-62a1-4504-c1be-ffecfa5bf95a"
      },
      "execution_count": 2,
      "outputs": [
        {
          "output_type": "stream",
          "name": "stdout",
          "text": [
            "180\n"
          ]
        }
      ]
    },
    {
      "cell_type": "code",
      "source": [
        "print(docs[0].page_content[0:100])\n",
        "print(docs[0].metadata)"
      ],
      "metadata": {
        "colab": {
          "base_uri": "https://localhost:8080/"
        },
        "id": "vRMbG4E5Y5KR",
        "outputId": "5fe3c026-af69-483d-a573-a142e7c6ddd3"
      },
      "execution_count": 3,
      "outputs": [
        {
          "output_type": "stream",
          "name": "stdout",
          "text": [
            "Malaysia Country Handbook\n",
            "1.  This handbook provides basic reference information on Malaysia, includ\n",
            "{'source': '/content/MCIA-MalaysiaHandbook.pdf', 'page': 0}\n"
          ]
        }
      ]
    },
    {
      "cell_type": "code",
      "source": [
        "import os\n",
        "\n",
        "# Replace 'your_api_key_here' with your actual API key\n",
        "os.environ[\"OPENAI_API_KEY\"] = \"\"\n",
        "\n",
        "from langchain_openai import ChatOpenAI\n",
        "\n",
        "llm = ChatOpenAI(model=\"gpt-4o\")\n"
      ],
      "metadata": {
        "id": "ule9KwmQZicx"
      },
      "execution_count": 4,
      "outputs": []
    },
    {
      "cell_type": "code",
      "source": [
        "from langchain_core.vectorstores import InMemoryVectorStore\n",
        "from langchain_openai import OpenAIEmbeddings\n",
        "from langchain_text_splitters import RecursiveCharacterTextSplitter\n",
        "\n",
        "\n",
        "# split documents into smaller documents\n",
        "text_splitter = RecursiveCharacterTextSplitter(chunk_size=1000, chunk_overlap=200)\n",
        "splits = text_splitter.split_documents(docs)\n",
        "# load smaller chunks into vector store, data stores that enable indexing & retrieving information based on vector representation.\n",
        "vectorstore = InMemoryVectorStore.from_documents(\n",
        "    documents=splits, embedding=OpenAIEmbeddings()\n",
        ")\n",
        "\n",
        "\n",
        "retriever = vectorstore.as_retriever()"
      ],
      "metadata": {
        "id": "Pn846fzvaRGz"
      },
      "execution_count": 5,
      "outputs": []
    },
    {
      "cell_type": "code",
      "source": [
        "from typing_extensions import final\n",
        "from langchain.chains import create_retrieval_chain\n",
        "from langchain.chains.combine_documents import create_stuff_documents_chain\n",
        "from langchain_core.prompts import ChatPromptTemplate\n",
        "\n",
        "# design prompt\n",
        "system_prompt = (\n",
        "    \"You are an assistant for question-answering tasks. \"\n",
        "    \"Use the following pieces of retrieved context to answer \"\n",
        "    \"the question. If you don't know the answer, say that you \"\n",
        "    \"don't know. Use three sentences maximum and keep the \"\n",
        "    \"answer concise.\"\n",
        "    \"\\n\\n\"\n",
        "    \"{context}\"\n",
        ")\n",
        "\n",
        "prompt = ChatPromptTemplate.from_messages(\n",
        "    [\n",
        "        (\"system\", system_prompt),\n",
        "        (\"human\", \"{input}\"),\n",
        "    ]\n",
        ")\n",
        "\n",
        "\n",
        "question_answer_chain = create_stuff_documents_chain(llm, prompt)\n",
        "# retrieve document based on similarity\n",
        "rag_chain = create_retrieval_chain(retriever, question_answer_chain)\n"
      ],
      "metadata": {
        "id": "AQlVg6FwafSd"
      },
      "execution_count": 6,
      "outputs": []
    },
    {
      "cell_type": "code",
      "source": [
        "# define function to ask question\n",
        "def ask_question(input_text):\n",
        "\n",
        "    # results = rag_chain.invoke({\"input\": input_text})\n",
        "\n",
        "    # Retrieve relevant documents\n",
        "    retrieved_documents = retriever.invoke(input_text)\n",
        "\n",
        "    # Filter out documents with repeated placeholders and join relevant content\n",
        "    retrieved_context = \" \".join(\n",
        "        [doc.page_content for doc in retrieved_documents if \"notes\" not in doc.page_content.lower()]\n",
        "    )\n",
        "\n",
        "    # Check if there is any retrieved context; if not, default to \"I don't know\"\n",
        "    if not retrieved_context.strip():\n",
        "        final_answer = \"I don't know\"\n",
        "    else:\n",
        "        # Run the RAG model and validate the answer\n",
        "        results = rag_chain.invoke({\"input\": input_text, \"context\": retrieved_context})\n",
        "        final_answer = results if results else \"I don't know\"\n",
        "\n",
        "    print(\"Question: \", input_text)\n",
        "    if final_answer == \"I don't know\":\n",
        "        print(\"Answer: I don't know\")\n",
        "    else:\n",
        "        print(final_answer[\"answer\"])\n",
        "        print(\"Sources: \")\n",
        "        for source in final_answer[\"context\"]:\n",
        "            print(\"Page:\", source.metadata[\"page\"])\n",
        "        print(\"\\n\")\n"
      ],
      "metadata": {
        "id": "9Zi5TtVHh5L1"
      },
      "execution_count": 7,
      "outputs": []
    },
    {
      "cell_type": "markdown",
      "source": [
        "### Note: Currently having problems with model using outside knowledge instead of the knowledge available in the document uploaded. (see question 3)"
      ],
      "metadata": {
        "id": "ZxK1bSKz0bmf"
      }
    },
    {
      "cell_type": "code",
      "source": [
        "print(\"Question 1\")\n",
        "ask_question(\"Where is Malaysia?\")\n",
        "\n",
        "print(\"Question 2\")\n",
        "ask_question(\"How is the weather in Malaysia?\")\n",
        "\n",
        "print(\"Question 3\")\n",
        "ask_question(\"Is Japan a beautiful country?\")"
      ],
      "metadata": {
        "colab": {
          "base_uri": "https://localhost:8080/"
        },
        "id": "f6VeW4CyjNTC",
        "outputId": "c255f854-532c-4d89-af3e-9dd23037cb93"
      },
      "execution_count": 8,
      "outputs": [
        {
          "output_type": "stream",
          "name": "stdout",
          "text": [
            "Question 1\n",
            "Question:  Where is Malaysia?\n",
            "Malaysia is located in Southeast Asia, consisting of peninsular Malaysia on the Malay Peninsula and East Malaysia on the island of Borneo. It shares borders with Thailand to the north, and its east part is bordered by Indonesia and Brunei. Malaysia has maritime boundaries with Vietnam and the Philippines as well.\n",
            "Sources: \n",
            "Page: 8\n",
            "Page: 10\n",
            "Page: 19\n",
            "Page: 13\n",
            "\n",
            "\n",
            "Question 2\n",
            "Question:  How is the weather in Malaysia?\n",
            "Malaysia has a tropical climate influenced by northern monsoons from November to March and southern monsoons from May to October. Average daily temperatures range from 21 to 32° C (70 to 90 ° F) throughout the year, with November and December being the wettest months. The west coast is generally dry, while the east coast and areas like Sarawak and Sabah experience more rainfall, often related to thunderstorms and typhoons.\n",
            "Sources: \n",
            "Page: 13\n",
            "Page: 13\n",
            "Page: 16\n",
            "Page: 14\n",
            "\n",
            "\n",
            "Question 3\n",
            "Question:  Is Japan a beautiful country?\n",
            "I don't know.\n",
            "Sources: \n",
            "Page: 116\n",
            "Page: 11\n",
            "Page: 10\n",
            "Page: 13\n",
            "\n",
            "\n"
          ]
        }
      ]
    },
    {
      "cell_type": "code",
      "source": [
        "# results = rag_chain.invoke({\"input\": input_text})\n",
        "input_text = \"Where is Malaysia?\"\n",
        "# Retrieve relevant documents\n",
        "retrieved_documents = retriever.invoke(input_text)\n",
        "# Filter out documents with repeated placeholders and join relevant content\n",
        "retrieved_context = \" \".join(\n",
        "        [doc.page_content for doc in retrieved_documents if \"notes\" not in doc.page_content.lower()]\n",
        ")\n",
        "\n",
        "# Check if there is any retrieved context; if not, default to \"I don't know\"\n",
        "if not retrieved_context.strip():\n",
        "    final_answer = \"I don't know\"\n",
        "else:\n",
        "        # Run the RAG model and validate the answer\n",
        "    results = rag_chain.invoke({\"input\": input_text, \"context\": retrieved_context})\n",
        "    final_answer = results if results else \"I don't know\"\n",
        "\n",
        "print(\"Question: \", input_text)\n",
        "final_answer"
      ],
      "metadata": {
        "colab": {
          "base_uri": "https://localhost:8080/"
        },
        "id": "Vndg_2zblJD1",
        "outputId": "330a7ed5-88a1-46c3-dda6-63877f397285"
      },
      "execution_count": 9,
      "outputs": [
        {
          "output_type": "stream",
          "name": "stdout",
          "text": [
            "Question:  Where is Malaysia?\n"
          ]
        },
        {
          "output_type": "execute_result",
          "data": {
            "text/plain": [
              "{'input': 'Where is Malaysia?',\n",
              " 'context': [Document(id='cedb36a2-de25-4e43-b186-0aca193af6c7', metadata={'source': '/content/MCIA-MalaysiaHandbook.pdf', 'page': 8}, page_content='1\\nKEY FACTS\\nCountry Name. Malaysia\\nCountry Code.  MYS\\nChief of State-Paramount Ruler. His Majesty Tuanku Syed Siraj ud-din\\nibn al-Marhum Tengku Syed Petra Jamalulail, King of Malaysia; elected\\nking on 12 December 2001 and installed 13 December 2001.\\nCapital. Kuala Lumpur\\nNational Flag.  Fourteen equal horizontal stripes of red (top) alternating\\nwith white (bottom). There is a blue rectangle in the upper hoist-side\\ncorner bearing a yellow crescent and a yellow, 14-pointed star; the cres-\\ncent and the star are traditional symbols of Islam. \\nTime Zone. GMT +8\\nPopulation. 22,229,040 (2001); average annual growth rate –  1.96 percent.\\nLanguages.  Bhasa Malaysia (official), English, Chinese, and Tamil\\nCurrency. The local currency is the Malaysian ringgit (RM), which is divided\\ninto 100 sen. Notes in circulation are RM1, RM5, RM10, RM20, RM50,\\nRM100, RM500, and RM1000; the coins are 1, 5, 10, 20, and 50 sen, and RM1.\\nAll major credit cards are widely accepted at major hotels and restaurants.'),\n",
              "  Document(id='cb0a9e23-26ad-4952-87ad-5c5057f56605', metadata={'source': '/content/MCIA-MalaysiaHandbook.pdf', 'page': 10}, page_content='zones out to 200 nautical miles. \\nBorder Disputes\\nMalaysia is involved in a complex dispute over the Spratly Islands with\\nChina, the Philippines, Taiwan, Vietnam, and Brunei. There is also a\\ndispute over the state of Sabah, which is claimed by the Philippines. \\nTopography and Drainage\\nMalaysia consists of two distinct parts, peninsular Malaysia and east\\nMalaysia. Peninsular Malaysia extends 804 kilometers (499 miles) from\\nits northern border with Thailand to its southern connection, a causeway\\nTotal Area : 329,750/128,603\\nLand Area: 328,550/128,135\\nComparative Area: Slightly larger than New Mexico'),\n",
              "  Document(id='c7d3cc8e-069e-4143-8045-91e3d7b767b5', metadata={'source': '/content/MCIA-MalaysiaHandbook.pdf', 'page': 19}, page_content='12\\nof Malaysia. Kuala Lumpur has a dense minibus network. Minibuses\\nstop anywhere to pick up and let off passengers while rarely following a\\nspecific timetable.\\nRail\\nMalaysia has a modern, comfortable, and economical railway service,\\nalthough there are basically two railway lines. One runs from Singapore\\nto Kuala Lumpur, Butterworth, and on into Thailand. The other\\nbranches from the first line at Gemas and runs through Kuala Limpis up\\nto the northeast corner of the country near Kota Baharu.\\nThe state-owned Malaysian Railway has approximately 1,700 kilome-\\nters (1,054 miles) of standard gauge track. The main railway line fol-\\nlows the west coast and extends 787 kilometers (488 miles) from\\nSingapore, south of peninsular Malaysia, to Butterworth (opposite Pen-\\nang Island) in the north. From Bukit Merajam, close to Butterworth, the\\nKedah line runs north to the Thai border at Padang Besar, where connec-\\ntion is made with the State Railway of Thailand. The east coast line'),\n",
              "  Document(id='2093c911-4f97-4de5-ba4a-51e06afb8795', metadata={'source': '/content/MCIA-MalaysiaHandbook.pdf', 'page': 13}, page_content='and are nearly always navigable, although extensive silting in many riv-\\ners limits navigation to canoes and rafts.\\nEast Malaysia, comprising more than 50 percent of the country, shares\\nthe island of Borneo with the Indonesian state of Kalimantan. East\\nMalaysia is divided between Sarawak and Sabah, with Brunei a small\\nenclave between them. It is covered by dense jungle with many large\\nriver systems, particularly in Sarawak.\\nClimate  \\nMalaysia ’s climate is tropical and influenced by northern monsoons\\nfrom November through March and by southern monsoons from May\\nthrough October. Frequent squalls can be expected during the south-\\nerly monsoons. Mean annual rainfall ranges from 482 millimeters (19\\ninches) to more than 1,499 millimeters (59 inches) in some regions.\\nFew places receive less than 102 millimeters (4 inches), even during\\nthe driest months. November and December are normally the wettest\\nmonths. Average daily temperatures range 21 to 32° C (70 to 90 ° F)')],\n",
              " 'answer': 'Malaysia is located in Southeast Asia, consisting of two distinct parts: Peninsular Malaysia, which is connected to Thailand in the north, and East Malaysia, situated on the island of Borneo. East Malaysia shares the island with the Indonesian state of Kalimantan and is divided between Sarawak and Sabah, with Brunei as a small enclave between them.'}"
            ]
          },
          "metadata": {},
          "execution_count": 9
        }
      ]
    }
  ]
}